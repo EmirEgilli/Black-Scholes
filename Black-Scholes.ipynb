{
 "cells": [
  {
   "cell_type": "markdown",
   "id": "ea68780e-89eb-4939-b809-26fff6196bbf",
   "metadata": {},
   "source": [
    "## Black-Scholes Formulas\n",
    "### d1 and d2\n",
    "#### $ d_1 = \\frac{ln(\\frac{S}{K}) + (r - q + \\frac{\\sigma^2}{2})*T}{\\sigma\\sqrt{T}} $\n",
    "#### $ d_2 = d_1 - \\sigma\\sqrt{T} $\n",
    "\n",
    "### Option Price\n",
    "#### For Call Options: $ C = Se^{-qT}N(d_1) - Ke^{-rT}N(d_2) $ \n",
    "#### For Put Options: $ P = Ke^{-rT}N(-d_2) - Se^{-qT}N(-d_1) $\n",
    "\n",
    "## Greeks\n",
    "### Delta($\\Delta = \\frac{\\delta V}{\\delta S}$): \n",
    "#### For Call Options: $ \\Delta_c = e^{-qT}N(d_1) $ \n",
    "#### For Put Options: $ \\Delta_p = -e^{-qT}N(-d_1) $\n",
    "\n",
    "### Gamma($\\Gamma = \\frac{\\delta^2 V}{\\delta S^2}$):\n",
    "#### $ \\Gamma = \\frac{e^{-qT}N'(d_1)}{S\\sigma\\sqrt{T}} $\n",
    "\n",
    "### Vega($\\nu = \\frac{\\delta V}{\\delta \\sigma}$):\n",
    "#### $ \\nu = 0.01 * Se^{-qT}N'(d_1)\\sqrt{T} $\n",
    "\n",
    "### Theta($\\Theta = \\frac{\\delta V}{\\delta T}$):\n",
    "#### For Call Options: $ \\theta_c = \\frac{1}{252} * \\left(-\\frac{Se^{-qT}N'(d_1)\\sigma}{2\\sqrt{T}} + qSe^{-qT}N(d_1) - rKe^{-rT}N(d_2)\\right) $\n",
    "#### For Put Options: $ \\theta_p = \\frac{1}{252} * \\left(-\\frac{Se^{-qT}N'(d_1)\\sigma}{2\\sqrt{T}} - qSe^{-qT}N(-d_1) + rKe^{-rT}N(-d_2)\\right) $\n",
    "\n",
    "### Rho($\\rho = \\frac{\\delta V}{\\delta r}$):\n",
    "#### For Call Options: $ \\rho_c = 0.01 * KTe^{-rT}N(d_2) $\n",
    "#### For Put Options: $ \\rho_p = -0.01 * KTe^{-rT}N(-d_2) $\n",
    "\n",
    "#### N(d) is the cumulative distribution function (cdf) of standard normal distribution,\n",
    "#### N'(d) is the probability density function (pdf) of standard normal distribution,\n",
    "#### Theta is expressed as the daily rate of time decay, so we divided by 252 to account for number of trading days per year."
   ]
  },
  {
   "cell_type": "code",
   "execution_count": 274,
   "id": "7f7662db-879a-4c0c-b915-20b527859441",
   "metadata": {},
   "outputs": [],
   "source": [
    "import numpy as np\n",
    "from scipy.stats import norm\n",
    "import yfinance as yf\n",
    "import pandas as pd"
   ]
  },
  {
   "cell_type": "code",
   "execution_count": 275,
   "id": "94456669-7b25-4285-bc81-00aa01330eb6",
   "metadata": {},
   "outputs": [],
   "source": [
    "def BlackScholes(r, S, K, T, sigma, option_type=\"C\", q=0):\n",
    "    \"\"\"\n",
    "Calculate the price of a European Call or Put option using the Black-Scholes formula, including adjustments for continuous dividend yield.\n",
    "\n",
    "Parameters\n",
    "----------\n",
    "r : float\n",
    "    Risk-free interest rate, expressed as a decimal (e.g., 0.05 for 5%).\n",
    "S : float\n",
    "    Current stock price.\n",
    "K : float\n",
    "    Strike price of the option.\n",
    "T : float\n",
    "    Time to expiration of the option, expressed in years (e.g., 0.5 for six months).\n",
    "sigma : float\n",
    "    Volatility of the underlying stock, expressed as a decimal.\n",
    "option_type : str, optional\n",
    "    Type of the option: 'C' for Call option or 'P' for Put option. The default is 'C'.\n",
    "q : float, optional\n",
    "    Continuous dividend yield of the underlying stock, expressed as a decimal. The default is 0.\n",
    "\n",
    "Returns\n",
    "-------\n",
    "None\n",
    "    This function prints the option price, Delta, Gamma, Vega, Theta, and Rho for the specified Call or Put option.\n",
    "    - Option Price: The theoretical price of the option using the Black-Scholes formula.\n",
    "    - Delta: Measures the rate of change of the option's price with respect to changes in the underlying asset's price.\n",
    "    - Gamma: Measures the rate of change in Delta with respect to changes in the underlying asset's price.\n",
    "    - Vega: Measures sensitivity of the option's price to changes in the volatility of the underlying asset. Note that Vega is not a Greek letter; the symbol ν (nu) is sometimes used.\n",
    "    - Theta: Measures the rate of time decay of the option's price, expressed per day. Used 252 trading days.\n",
    "    - Rho: Measures sensitivity of the option's price to changes in the risk-free interest rate.\n",
    "\n",
    "Note\n",
    "----\n",
    "This function assumes European options, which can only be exercised at expiration. It does not apply to American options, which can be exercised at any time before expiration.\n",
    "----\n",
    "\"\"\"\n",
    "    \n",
    "    # Define d1 and d2 for Black-Scholes, including the dividend yield\n",
    "    d1 = (np.log(S / K) + (r - q + sigma ** 2 / 2) * T) / (sigma * np.sqrt(T))\n",
    "    d2 = d1 - sigma * np.sqrt(T)\n",
    "    \n",
    "    # Subfunction to calculate delta\n",
    "    def calc_delta():\n",
    "        if option_type == \"C\":\n",
    "            return norm.cdf(d1, 0, 1)  # Delta for Call option\n",
    "        elif option_type == \"P\":\n",
    "            return -norm.cdf(-d1, 0, 1)  # Delta for Put option\n",
    "        \n",
    "    # Subfunction to calculate Gamma\n",
    "    def calc_gamma():\n",
    "        return norm.pdf(d1, 0, 1) / (S * sigma * np.sqrt(T))\n",
    "    \n",
    "    # Subfunction to calculate Vega\n",
    "    def calc_vega():\n",
    "        return (S * norm.pdf(d1, 0, 1) * np.sqrt(T)) * 0.01\n",
    "    \n",
    "    # Subfunction to calculate Theta, including dividend yield\n",
    "    def calc_theta():\n",
    "        if option_type == \"C\":\n",
    "            return (-S * norm.pdf(d1, 0, 1) * sigma / (2 * np.sqrt(T)) + q * S * norm.cdf(d1, 0, 1) - r * K * np.exp(-r * T) * norm.cdf(d2, 0, 1)) / 252 # Theta for Call option\n",
    "        elif option_type == \"P\":\n",
    "            return (-S * norm.pdf(d1, 0, 1) * sigma / (2 * np.sqrt(T)) - q * S * norm.cdf(-d1, 0, 1) + r * K * np.exp(-r * T) * norm.cdf(-d2, 0, 1)) / 252 # Theta for Put option\n",
    "\n",
    "    # Subfunction to calculate Rho\n",
    "    def calc_rho():\n",
    "        if option_type == \"C\":\n",
    "            return (K * T * np.exp(-r * T) * norm.cdf(d2, 0, 1)) * 0.01  # Rho for Call option\n",
    "        elif option_type == \"P\":\n",
    "            return (-K * T * np.exp(-r * T) * norm.cdf(-d2, 0, 1)) * 0.01  # Rho for Put option\n",
    "\n",
    "    try:\n",
    "        delta = calc_delta()  # Call the subfunction to calculate delta\n",
    "        gamma = calc_gamma()  # Call the subfunction to calculate gamma\n",
    "        vega = calc_vega()    # Call the subfunction to calculate vega\n",
    "        theta = calc_theta()  # Call the subfunction to calculate theta\n",
    "        rho = calc_rho()      # Call the subfunction to calculate rho\n",
    "        if option_type == \"C\":\n",
    "            price = S * np.exp(-q * T) * norm.cdf(d1, 0, 1) - K * np.exp(-r * T) * norm.cdf(d2, 0, 1)\n",
    "            print(f\"Call Option Price: {price:.5f}\")\n",
    "            print(\"-----------------\")\n",
    "            print(f\"Call Delta: {delta:.5f}\")\n",
    "            print(f\"Gamma: {gamma:.5f}\")\n",
    "            print(f\"Vega: {vega:.5f}\")\n",
    "            print(f\"Call Theta: {theta:.5f}\")\n",
    "            print(f\"Call Rho: {rho:.5f}\")\n",
    "        elif option_type == \"P\":\n",
    "            price = K * np.exp(-r * T) * norm.cdf(-d2, 0, 1) - S * np.exp(-q * T) * norm.cdf(-d1, 0, 1)\n",
    "            print(f\"Put Option Price: {price:.5f}\")\n",
    "            print(\"-----------------\")\n",
    "            print(f\"Put Delta: {delta:.5f}\")\n",
    "            print(f\"Gamma: {gamma:.5f}\")\n",
    "            print(f\"Vega: {vega:.5f}\")\n",
    "            print(f\"Put Theta: {theta:.5f}\")\n",
    "            print(f\"Put Rho: {rho:.5f}\")\n",
    "        else:\n",
    "            raise ValueError(\"Invalid option type! Please confirm option type either 'C' for Call option or 'P' for Put option\")\n",
    "    except ValueError as e:\n",
    "        print(e)"
   ]
  },
  {
   "cell_type": "code",
   "execution_count": 296,
   "id": "0d791850-199e-4b49-82e3-76b9e6b3634f",
   "metadata": {},
   "outputs": [
    {
     "name": "stdout",
     "output_type": "stream",
     "text": [
      "Call Option Price: 6.86428\n",
      "-----------------\n",
      "Call Delta: 0.63261\n",
      "Gamma: 0.02664\n",
      "Vega: 0.13318\n",
      "Call Theta: -0.02348\n",
      "Call Rho: 0.12226\n"
     ]
    }
   ],
   "source": [
    "BlackScholes(0.05, 50, 48, 0.5, 0.4, \"C\", 0.02)"
   ]
  },
  {
   "cell_type": "markdown",
   "id": "aa9eed67-e72d-43df-8825-ca87343327b2",
   "metadata": {},
   "source": [
    "#### Let's try this on a USD based FX pair, \"USDCHF=X\""
   ]
  },
  {
   "cell_type": "code",
   "execution_count": 284,
   "id": "975ec48a-3c86-4c19-af99-5cd4114e3c98",
   "metadata": {},
   "outputs": [
    {
     "name": "stdout",
     "output_type": "stream",
     "text": [
      "[*********************100%***********************]  1 of 1 completed\n"
     ]
    },
    {
     "name": "stderr",
     "output_type": "stream",
     "text": [
      "C:\\Users\\emir.e\\AppData\\Local\\Temp\\ipykernel_20780\\1215793644.py:4: FutureWarning: Series.__getitem__ treating keys as positions is deprecated. In a future version, integer keys will always be treated as labels (consistent with DataFrame behavior). To access a value by position, use `ser.iloc[pos]`\n",
      "  current_price = data['Adj Close'][-1]\n"
     ]
    },
    {
     "name": "stdout",
     "output_type": "stream",
     "text": [
      "[*********************100%***********************]  1 of 1 completed\n"
     ]
    },
    {
     "name": "stderr",
     "output_type": "stream",
     "text": [
      "C:\\Users\\emir.e\\AppData\\Local\\Temp\\ipykernel_20780\\1215793644.py:7: FutureWarning: Series.__getitem__ treating keys as positions is deprecated. In a future version, integer keys will always be treated as labels (consistent with DataFrame behavior). To access a value by position, use `ser.iloc[pos]`\n",
      "  rf = yf.download(\"^TNX\", start=\"2018-02-21\", end=\"2024-02-21\")['Adj Close'][-1] / 100\n"
     ]
    }
   ],
   "source": [
    "# Download price data from yfinance for 1-year and calculate historical volatility\n",
    "data = yf.download(\"USDCHF=X\", start=\"2018-02-21\", end=\"2024-02-21\")\n",
    "daily_rets = data['Adj Close'].pct_change().dropna()\n",
    "current_price = data['Adj Close'][-1]\n",
    "\n",
    "#Risk-free rate will be obtained from US 10-Y Treasury Bonds \"^TNX\"\n",
    "rf = yf.download(\"^TNX\", start=\"2018-02-21\", end=\"2024-02-21\")['Adj Close'][-1] / 100"
   ]
  },
  {
   "cell_type": "code",
   "execution_count": 285,
   "id": "3ee932f6-586d-47e0-ab97-a86e6a2b0645",
   "metadata": {},
   "outputs": [
    {
     "name": "stdout",
     "output_type": "stream",
     "text": [
      "Put Option Price: 0.03764\n",
      "-----------------\n",
      "Put Delta: -0.30080\n",
      "Gamma: 1.97174\n",
      "Vega: 0.00154\n",
      "Put Theta: -0.00044\n",
      "Put Rho: -0.00076\n"
     ]
    }
   ],
   "source": [
    "BlackScholes(rf, current_price, 0.82, 0.25, 0.4, \"P\")"
   ]
  },
  {
   "cell_type": "code",
   "execution_count": 286,
   "id": "4434d7d6-0ea2-45b7-a388-07474ff18576",
   "metadata": {},
   "outputs": [
    {
     "name": "stdout",
     "output_type": "stream",
     "text": [
      "[*********************100%***********************]  1 of 1 completed\n"
     ]
    },
    {
     "name": "stderr",
     "output_type": "stream",
     "text": [
      "C:\\Users\\emir.e\\AppData\\Local\\Temp\\ipykernel_20780\\1769103818.py:4: FutureWarning: Series.__getitem__ treating keys as positions is deprecated. In a future version, integer keys will always be treated as labels (consistent with DataFrame behavior). To access a value by position, use `ser.iloc[pos]`\n",
      "  current_price = data['Adj Close'][-1]\n"
     ]
    }
   ],
   "source": [
    "# Now let's try one on a stock with an assumed dividend yield of 2%, using \"AKBNK.IS\"\n",
    "data = yf.download(\"AKBNK.IS\", start=\"2023-02-21\", end=\"2024-02-21\")\n",
    "daily_rets = data['Adj Close'].pct_change().dropna()\n",
    "current_price = data['Adj Close'][-1]\n",
    "\n",
    "# We will have to obtain the risk-free rate by Webscraping\n",
    "rf = pd.read_html(\"https://www.bloomberght.com/tahvil/tr-10-yillik-tahvil\")[0]['SON'][10] / 10000"
   ]
  },
  {
   "cell_type": "code",
   "execution_count": 287,
   "id": "5169860c-491f-4112-9e97-4e5fbbfd630b",
   "metadata": {},
   "outputs": [
    {
     "name": "stdout",
     "output_type": "stream",
     "text": [
      "Call Option Price: 13.57857\n",
      "-----------------\n",
      "Call Delta: 0.70294\n",
      "Gamma: 0.01147\n",
      "Vega: 0.14918\n",
      "Call Theta: -0.03467\n",
      "Call Rho: 0.16118\n"
     ]
    }
   ],
   "source": [
    "BlackScholes(rf, current_price, 48, 1, 0.7, \"C\", 0.02)"
   ]
  },
  {
   "cell_type": "code",
   "execution_count": null,
   "id": "6f46c19a-c03d-4b54-b3ae-05cdcc890aa3",
   "metadata": {},
   "outputs": [],
   "source": []
  }
 ],
 "metadata": {
  "kernelspec": {
   "display_name": "Python 3 (ipykernel)",
   "language": "python",
   "name": "python3"
  },
  "language_info": {
   "codemirror_mode": {
    "name": "ipython",
    "version": 3
   },
   "file_extension": ".py",
   "mimetype": "text/x-python",
   "name": "python",
   "nbconvert_exporter": "python",
   "pygments_lexer": "ipython3",
   "version": "3.9.12"
  }
 },
 "nbformat": 4,
 "nbformat_minor": 5
}
